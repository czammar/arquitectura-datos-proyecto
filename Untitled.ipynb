{
 "cells": [
  {
   "cell_type": "code",
   "execution_count": 1,
   "metadata": {},
   "outputs": [
    {
     "ename": "SyntaxError",
     "evalue": "Missing parentheses in call to 'print'. Did you mean print('Starting RDS instance with ID: %s' % db_identifier)? (<ipython-input-1-80b034ea6e3f>, line 26)",
     "output_type": "error",
     "traceback": [
      "\u001b[0;36m  File \u001b[0;32m\"<ipython-input-1-80b034ea6e3f>\"\u001b[0;36m, line \u001b[0;32m26\u001b[0m\n\u001b[0;31m    print 'Starting RDS instance with ID: %s' % db_identifier\u001b[0m\n\u001b[0m                                            ^\u001b[0m\n\u001b[0;31mSyntaxError\u001b[0m\u001b[0;31m:\u001b[0m Missing parentheses in call to 'print'. Did you mean print('Starting RDS instance with ID: %s' % db_identifier)?\n"
     ]
    }
   ],
   "source": [
    "import time\n",
    "\n",
    "import boto3\n",
    "import botocore\n",
    "\n",
    "\n",
    "def main():\n",
    "    db_identifier = 'yourDBID'\n",
    "    rds = boto3.client('rds')\n",
    "    try:\n",
    "        rds.create_db_instance(DBInstanceIdentifier=db_identifier,\n",
    "                               AllocatedStorage=200,\n",
    "                               DBName='yourdbname',\n",
    "                               Engine='postgres',\n",
    "                               # General purpose SSD\n",
    "                               StorageType='gp2',\n",
    "                               StorageEncrypted=True,\n",
    "                               AutoMinorVersionUpgrade=True,\n",
    "                               # Set this to true later?\n",
    "                               MultiAZ=False,\n",
    "                               MasterUsername='youruser',\n",
    "                               MasterUserPassword='yourpassword',\n",
    "                               VpcSecurityGroupIds=['YOUR_SECURITY_GROUP_ID'],\n",
    "                               DBInstanceClass='db.m3.2xlarge',\n",
    "                               Tags=[{'Key': 'MyTag', 'Value': 'Hawaii'}])\n",
    "        print 'Starting RDS instance with ID: %s' % db_identifier\n",
    "    except botocore.exceptions.ClientError as e:\n",
    "        if 'DBInstanceAlreadyExists' in e.message:\n",
    "            print 'DB instance %s exists already, continuing to poll ...' % db_identifier\n",
    "        else:\n",
    "            raise\n",
    "\n",
    "\n",
    "    running = True\n",
    "    while running:\n",
    "        response = rds.describe_db_instances(DBInstanceIdentifier=db_identifier)\n",
    "\n",
    "        db_instances = response['DBInstances']\n",
    "        if len(db_instances) != 1:\n",
    "            raise Exception('Whoa cowboy! More than one DB instance returned; this should never happen')\n",
    "\n",
    "        db_instance = db_instances[0]\n",
    "\n",
    "        status = db_instance['DBInstanceStatus']\n",
    "\n",
    "        print 'Last DB status: %s' % status\n",
    "\n",
    "        time.sleep(5)\n",
    "        if status == 'available':\n",
    "            endpoint = db_instance['Endpoint']\n",
    "            host = endpoint['Address']\n",
    "            # port = endpoint['Port']\n",
    "\n",
    "            print 'DB instance ready with host: %s' % host\n",
    "            running = False\n",
    "\n",
    "\n",
    "if __name__ == '__main__':\n",
    "    main()"
   ]
  }
 ],
 "metadata": {
  "kernelspec": {
   "display_name": "Python 3",
   "language": "python",
   "name": "python3"
  },
  "language_info": {
   "codemirror_mode": {
    "name": "ipython",
    "version": 3
   },
   "file_extension": ".py",
   "mimetype": "text/x-python",
   "name": "python",
   "nbconvert_exporter": "python",
   "pygments_lexer": "ipython3",
   "version": "3.7.4"
  }
 },
 "nbformat": 4,
 "nbformat_minor": 4
}
